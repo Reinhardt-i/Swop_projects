{
 "cells": [
  {
   "cell_type": "markdown",
   "id": "2a634512",
   "metadata": {},
   "source": [
    "# CETM50 - Workshop 1\n",
    "## Student Name: Abraar\n",
    "## Student ID: <StudentID>"
   ]
  },
  {
   "cell_type": "markdown",
   "id": "2ddd8551",
   "metadata": {},
   "source": [
    "### Exercise 1"
   ]
  },
  {
   "cell_type": "code",
   "execution_count": 2,
   "id": "25c6e134",
   "metadata": {},
   "outputs": [
    {
     "name": "stdout",
     "output_type": "stream",
     "text": [
      "Hello World!\n"
     ]
    }
   ],
   "source": [
    "print(\"Hello World!\")"
   ]
  },
  {
   "cell_type": "markdown",
   "id": "b37cecf0",
   "metadata": {},
   "source": [
    "### Exercise 2"
   ]
  },
  {
   "cell_type": "code",
   "execution_count": 9,
   "id": "38387e61",
   "metadata": {},
   "outputs": [
    {
     "name": "stdout",
     "output_type": "stream",
     "text": [
      "<class 'int'>\n",
      "<class 'float'>\n",
      "<class 'str'>\n",
      "<class 'list'>\n",
      "<class 'tuple'>\n",
      "<class 'bool'>\n"
     ]
    }
   ],
   "source": [
    "print(type(932))\n",
    "print(type(10.0))\n",
    "print(type(\"Hello!\"))\n",
    "print(type([10, 12, 15, 20, 21]))\n",
    "print(type((10, 12, 15)))\n",
    "print(type(10 == 11))"
   ]
  },
  {
   "cell_type": "markdown",
   "id": "7d0a0aa5",
   "metadata": {},
   "source": [
    "### Exercise 3"
   ]
  },
  {
   "cell_type": "code",
   "execution_count": 10,
   "id": "fd8985ed",
   "metadata": {},
   "outputs": [
    {
     "data": {
      "text/plain": [
       "str"
      ]
     },
     "execution_count": 10,
     "metadata": {},
     "output_type": "execute_result"
    }
   ],
   "source": [
    "type(str(932))"
   ]
  },
  {
   "cell_type": "markdown",
   "id": "67f83842",
   "metadata": {},
   "source": [
    "### Exercise 4"
   ]
  },
  {
   "cell_type": "code",
   "execution_count": 13,
   "id": "750598f6",
   "metadata": {},
   "outputs": [
    {
     "name": "stdout",
     "output_type": "stream",
     "text": [
      "<class 'int'>\n",
      "<class 'float'>\n",
      "<class 'int'>\n",
      "<class 'str'>\n",
      "<class 'str'>\n"
     ]
    }
   ],
   "source": [
    "print(type(3+4))\n",
    "print(type(3.0+4))\n",
    "print(type(37%7**2))\n",
    "print(type('bob' + 'cat'))\n",
    "# Next line is commented out because it induces a TypeError: unsupported operand type(s) for /: 'str' and 'str'\n",
    "# print(type(\"bob\" / \"cat\"))  \n",
    "print(type(\"banana\" + \"na\" * 20))"
   ]
  },
  {
   "cell_type": "markdown",
   "id": "d189fcd1",
   "metadata": {},
   "source": [
    "### Exercise 5 \n",
    "\n",
    "Acording to PEMDAS, \n",
    "\n",
    "First, we evaluate the expression inside parentheses or brackets. However, there are no parentheses in this expression. Next, we move to Exponents/Orders, but there are no exponents here either.\n",
    "\n",
    "Then, we perform Multiplication and Division from left to right:\n",
    "28 / 7 = 4, then,\n",
    "4 * 2 = 8\n",
    "Finally, we perform Addition:\n",
    "12 + 8 = 20\n",
    "So, the result of the expression \"12 + 28 / 7 * 2\" is 20.\n",
    "\n",
    "The overall type of the result is an integer.\n",
    "\n",
    "To make the expression less ambiguous, we can use parentheses to explicitly specify the order of operations.\n",
    "Here's a way -\n",
    "12 + ((28 / 7) * 2)"
   ]
  },
  {
   "cell_type": "code",
   "execution_count": 17,
   "id": "f3f36216",
   "metadata": {},
   "outputs": [
    {
     "name": "stdout",
     "output_type": "stream",
     "text": [
      "20.0\n",
      "20.0\n",
      "<class 'float'>\n",
      "<class 'float'>\n"
     ]
    }
   ],
   "source": [
    "x = 12 + 28 / 7 * 2\n",
    "x_less_ambiguous = 12 + ((28 / 7) * 2)\n",
    "print(x)\n",
    "print(x_less_ambiguous)\n",
    "print(type(x))\n",
    "print(type(x_less_ambiguous))"
   ]
  },
  {
   "cell_type": "markdown",
   "id": "18e8e68e",
   "metadata": {},
   "source": [
    "### Exercise 6"
   ]
  },
  {
   "cell_type": "code",
   "execution_count": 18,
   "id": "8b1195de",
   "metadata": {},
   "outputs": [
    {
     "name": "stdout",
     "output_type": "stream",
     "text": [
      "Addition: 139.0\n",
      "Subtraction: -55.0\n",
      "Division: 0.4329896907216495\n",
      "Multiplication: 4074.0\n"
     ]
    }
   ],
   "source": [
    "# Define the variables\n",
    "a = 42.0\n",
    "b = 97\n",
    "\n",
    "# Perform calculations\n",
    "addition = a + b\n",
    "subtraction = a - b\n",
    "division = a / b\n",
    "multiplication = a * b\n",
    "\n",
    "# Print the results\n",
    "print(f\"Addition: {addition}\")\n",
    "print(f\"Subtraction: {subtraction}\")\n",
    "print(f\"Division: {division}\")\n",
    "print(f\"Multiplication: {multiplication}\")\n"
   ]
  },
  {
   "cell_type": "markdown",
   "id": "cb49c039",
   "metadata": {},
   "source": [
    "### Exercise 7"
   ]
  },
  {
   "cell_type": "code",
   "execution_count": 19,
   "id": "0bda5afb",
   "metadata": {},
   "outputs": [
    {
     "name": "stdout",
     "output_type": "stream",
     "text": [
      "4074.0\n",
      "banananananananananananananananananananananana\n"
     ]
    }
   ],
   "source": [
    "print(multiplication)\n",
    "multiplication = \"banana\" + \"na\" * 20\n",
    "print(multiplication)"
   ]
  },
  {
   "cell_type": "markdown",
   "id": "9edf5438",
   "metadata": {},
   "source": [
    "### Exercise 10"
   ]
  },
  {
   "cell_type": "code",
   "execution_count": 22,
   "id": "e66f8dea",
   "metadata": {},
   "outputs": [
    {
     "name": "stdout",
     "output_type": "stream",
     "text": [
      "Comparison \"ada\" < \"bill\" is True\n",
      "Comparison \"ada\" < \"adb\" is True\n",
      "Comparison \"ada\" < \"adalovelace\" is True\n"
     ]
    }
   ],
   "source": [
    "result1 = \"ada\" < \"bill\"\n",
    "print(f'Comparison \"ada\" < \"bill\" is {result1}')\n",
    "\n",
    "\n",
    "result2 = \"ada\" < \"adb\"\n",
    "print(f'Comparison \"ada\" < \"adb\" is {result2}')\n",
    "\n",
    "\n",
    "result3 = \"ada\" < \"adalovelace\"\n",
    "print(f'Comparison \"ada\" < \"adalovelace\" is {result3}')"
   ]
  },
  {
   "cell_type": "markdown",
   "id": "f916c9f0",
   "metadata": {},
   "source": [
    "### Exercise 11"
   ]
  },
  {
   "cell_type": "code",
   "execution_count": 23,
   "id": "1fa0a6ab",
   "metadata": {},
   "outputs": [
    {
     "name": "stdout",
     "output_type": "stream",
     "text": [
      "Please enter your name: Abrar\n",
      "Hello, someone else!\n"
     ]
    }
   ],
   "source": [
    "user_name = input(\"Please enter your name: \")\n",
    "my_name = \"Abraar\"\n",
    "\n",
    "if user_name == my_name:\n",
    "    print(\"Hello, it's me!\")\n",
    "else:\n",
    "    print(\"Hello, someone else!\")"
   ]
  },
  {
   "cell_type": "markdown",
   "id": "97a5e654",
   "metadata": {},
   "source": [
    "### Exercise 12"
   ]
  },
  {
   "cell_type": "code",
   "execution_count": 33,
   "id": "7182ab37",
   "metadata": {},
   "outputs": [
    {
     "name": "stdout",
     "output_type": "stream",
     "text": [
      "Please enter your name: faruk\n",
      "Hello, someone else!\n"
     ]
    }
   ],
   "source": [
    "\n",
    "user_name = input(\"Please enter your name: \")\n",
    "\n",
    "my_first_name = \"Abraar\"\n",
    "my_last_name = \"Nafiz\"\n",
    "\n",
    "if user_name == my_first_name or user_name == my_last_name:\n",
    "    print(\"Hello, it's me!\")\n",
    "else:\n",
    "    print(\"Hello, someone else!\")\n"
   ]
  },
  {
   "cell_type": "markdown",
   "id": "fd697bce",
   "metadata": {},
   "source": [
    "### Exercise 13 :\n",
    "| a | b | c | a and b | (a and b) or c |\n",
    "|---|---|---|---------|----------------|\n",
    "| True | True | True | True | True |\n",
    "| True | False | True | False | True |\n",
    "| False | True | True | False | True |\n",
    "| False | False | True | False | True |\n",
    "| True | True | False | True | True |\n",
    "| True | False | False | False | False |\n",
    "| False | True | False | False | False |\n",
    "| False | False | False | False | False |\n"
   ]
  },
  {
   "cell_type": "markdown",
   "id": "63a13a52",
   "metadata": {},
   "source": [
    "### Exercise 14"
   ]
  },
  {
   "cell_type": "markdown",
   "id": "76e8b325",
   "metadata": {},
   "source": [
    "| a | b | c | a and b | (a and b) or c | (a and b) or not c |\n",
    "|---|---|---|---------|----------------|--------------------|\n",
    "| True | True | True | True | True | True |\n",
    "| True | False | True | False | True | False |\n",
    "| False | True | True | False | True | False |\n",
    "| False | False | True | False | True | False |\n",
    "| True | True | False | True | True | True |\n",
    "| True | False | False | False | False | True |\n",
    "| False | True | False | False | False | True |\n",
    "| False | False | False | False | False | True |\n"
   ]
  },
  {
   "cell_type": "markdown",
   "id": "eeee4089",
   "metadata": {},
   "source": [
    "### Exercise 15"
   ]
  },
  {
   "cell_type": "code",
   "execution_count": 31,
   "id": "0f9d5962",
   "metadata": {},
   "outputs": [
    {
     "name": "stdout",
     "output_type": "stream",
     "text": [
      "The variable 10 is even!\n",
      "The variable 0 is even!\n",
      "The variable 44 is even!\n"
     ]
    }
   ],
   "source": [
    "def is_even(x : int):\n",
    "    if x % 2 == 0:\n",
    "        print(f\"The variable {x} is even!\")\n",
    "\n",
    "\n",
    "is_even(10)\n",
    "is_even(9)\n",
    "is_even(103)\n",
    "is_even(0)\n",
    "is_even(44)"
   ]
  },
  {
   "cell_type": "markdown",
   "id": "4d146367",
   "metadata": {},
   "source": [
    "### Exercise 16"
   ]
  },
  {
   "cell_type": "code",
   "execution_count": 32,
   "id": "84d63ec8",
   "metadata": {},
   "outputs": [
    {
     "name": "stdout",
     "output_type": "stream",
     "text": [
      "The variable 10 is even!\n",
      "The variable 9 is odd!\n",
      "The variable 103 is odd!\n",
      "The variable 0 is even!\n",
      "The variable 44 is even!\n"
     ]
    }
   ],
   "source": [
    "def check_parity(x : int):\n",
    "    if x % 2 == 0:\n",
    "        print(f\"The variable {x} is even!\")\n",
    "    else:\n",
    "        print(f\"The variable {x} is odd!\")\n",
    "        \n",
    "check_parity(10)\n",
    "check_parity(9)\n",
    "check_parity(103)\n",
    "check_parity(0)\n",
    "check_parity(44)"
   ]
  },
  {
   "cell_type": "markdown",
   "id": "d8acb4bb",
   "metadata": {},
   "source": [
    "### Exercise 17"
   ]
  },
  {
   "cell_type": "code",
   "execution_count": 35,
   "id": "80d90051",
   "metadata": {},
   "outputs": [
    {
     "name": "stdout",
     "output_type": "stream",
     "text": [
      "6 is divisible by both 2 and 3\n",
      "17 is not divisible by 2 or 3\n",
      "9 is divisible by 3\n",
      "4 is divisible by 2\n",
      "60 is divisible by both 2 and 3\n"
     ]
    }
   ],
   "source": [
    "def check_divisibility(number):\n",
    "    if number % 2 == 0 and number % 3 == 0:\n",
    "        print(f\"{number} is divisible by both 2 and 3\")\n",
    "    elif number % 2 == 0:\n",
    "        print(f\"{number} is divisible by 2\")\n",
    "    elif number % 3 == 0:\n",
    "        print(f\"{number} is divisible by 3\")\n",
    "    else:\n",
    "        print(f\"{number} is not divisible by 2 or 3\")\n",
    "\n",
    "\n",
    "check_divisibility(6)\n",
    "check_divisibility(17)\n",
    "check_divisibility(9)\n",
    "check_divisibility(4)\n",
    "check_divisibility(60)"
   ]
  },
  {
   "cell_type": "markdown",
   "id": "334b4a27",
   "metadata": {},
   "source": [
    "### Exercise 18"
   ]
  },
  {
   "cell_type": "code",
   "execution_count": 42,
   "id": "de5a2ac4",
   "metadata": {},
   "outputs": [
    {
     "name": "stdout",
     "output_type": "stream",
     "text": [
      "Item: 5, [Square of 5] = 25\n",
      "Item: 2, [Square of 2] = 4\n",
      "Item: 9, [Square of 9] = 81\n",
      "Item: -1, \n",
      "Encountered -1, breaking out of the loop!\n"
     ]
    }
   ],
   "source": [
    "A = [5, 2, 9, -1, 3, 12]\n",
    "\n",
    "counter = 0\n",
    "while counter < len(A):\n",
    "    item = A[counter]\n",
    "    print(f\"Item: {item}\", end=\", \")\n",
    "    \n",
    "    if item == -1:\n",
    "        print(\"\\nEncountered -1, breaking out of the loop!\")\n",
    "        break\n",
    "\n",
    "    square = item ** 2\n",
    "    print(f\"[Square of {item}] = {square}\")\n",
    "    \n",
    "    counter += 1\n"
   ]
  },
  {
   "cell_type": "markdown",
   "id": "74568cc5",
   "metadata": {},
   "source": [
    "### Exercise 19"
   ]
  },
  {
   "cell_type": "code",
   "execution_count": 43,
   "id": "c117e744",
   "metadata": {},
   "outputs": [
    {
     "name": "stdout",
     "output_type": "stream",
     "text": [
      "Item: 5, [Square of 5] = 25\n",
      "Item: 2, [Square of 2] = 4\n",
      "Item: 9, [Square of 9] = 81\n",
      "Item: -1, \n",
      "Encountered -1, breaking out of the loop!\n"
     ]
    }
   ],
   "source": [
    "A = [5, 2, 9, -1, 3, 12]\n",
    "\n",
    "for i in range(len(A)):\n",
    "    item = A[i]\n",
    "    print(f\"Item: {item}\", end=\", \")\n",
    "\n",
    "    if item == -1:\n",
    "        print(\"\\nEncountered -1, breaking out of the loop!\")\n",
    "        break\n",
    "\n",
    "    square = item ** 2\n",
    "    print(f\"[Square of {item}] = {square}\")\n"
   ]
  },
  {
   "cell_type": "markdown",
   "id": "250b5ccd",
   "metadata": {},
   "source": [
    "### Exercise 20"
   ]
  },
  {
   "cell_type": "code",
   "execution_count": 44,
   "id": "5faa9592",
   "metadata": {},
   "outputs": [
    {
     "name": "stdout",
     "output_type": "stream",
     "text": [
      "Item: 5, [Square of 5] = 25\n",
      "Item: 2, [Square of 2] = 4\n",
      "Item: 9, [Square of 9] = 81\n",
      "Item: -1, \n",
      "Encountered -1, breaking out of the loop!\n"
     ]
    }
   ],
   "source": [
    "A = [5, 2, 9, -1, 3, 12]\n",
    "\n",
    "for item in A:\n",
    "    print(f\"Item: {item}\", end=\", \")\n",
    "\n",
    "    if item == -1:\n",
    "        print(\"\\nEncountered -1, breaking out of the loop!\")\n",
    "        break\n",
    "\n",
    "    square = item ** 2\n",
    "    print(f\"[Square of {item}] = {square}\")"
   ]
  },
  {
   "cell_type": "markdown",
   "id": "59939afb",
   "metadata": {},
   "source": [
    "### Exercise 21"
   ]
  },
  {
   "cell_type": "code",
   "execution_count": 49,
   "id": "c3459afe",
   "metadata": {},
   "outputs": [
    {
     "name": "stdout",
     "output_type": "stream",
     "text": [
      "The sum of all numbers in the list [5, 2, 9, -1, 3, 12] is  ->  30\n"
     ]
    }
   ],
   "source": [
    "A = [5, 2, 9, -1, 3, 12]\n",
    "\n",
    "sum_of_numbers = 0\n",
    "\n",
    "for item in A:\n",
    "    sum_of_numbers += item\n",
    "\n",
    "print(f\"The sum of all numbers in the list {A} is  ->  {sum_of_numbers}\")"
   ]
  },
  {
   "cell_type": "markdown",
   "id": "fcabf27c",
   "metadata": {},
   "source": [
    "### Exercise 22"
   ]
  },
  {
   "cell_type": "code",
   "execution_count": 50,
   "id": "bcd7aadb",
   "metadata": {},
   "outputs": [
    {
     "name": "stdout",
     "output_type": "stream",
     "text": [
      "The mean of the numbers in the list [5, 2, 9, -1, 3, 12] is  ->  5.0\n"
     ]
    }
   ],
   "source": [
    "A = [5, 2, 9, -1, 3, 12]\n",
    "\n",
    "mean = sum(A) / len(A)\n",
    "\n",
    "print(f\"The mean of the numbers in the list {A} is  ->  {mean}\")"
   ]
  },
  {
   "cell_type": "markdown",
   "id": "b791afcd",
   "metadata": {},
   "source": [
    "### Exercise 23"
   ]
  },
  {
   "cell_type": "code",
   "execution_count": 29,
   "id": "4531a876",
   "metadata": {},
   "outputs": [
    {
     "name": "stdout",
     "output_type": "stream",
     "text": [
      "Maximum Value: 72\n"
     ]
    }
   ],
   "source": [
    "my_items = [ -5, 3, 72, 1, 9, 24, -3]\n",
    "max_so_far = None\n",
    "\n",
    "for elem in my_items:\n",
    "    if max_so_far == None or elem > max_so_far:\n",
    "        max_so_far = elem\n",
    "\n",
    "print(f\"Maximum Value: {max_so_far}\")"
   ]
  },
  {
   "cell_type": "markdown",
   "id": "c9ff941e",
   "metadata": {},
   "source": [
    "### Exercise 24"
   ]
  },
  {
   "cell_type": "code",
   "execution_count": 51,
   "id": "e6094400",
   "metadata": {},
   "outputs": [
    {
     "name": "stdout",
     "output_type": "stream",
     "text": [
      "5\n",
      "10\n",
      "[1, 2, 7]\n",
      "[1, 6, 2, 7]\n",
      "[1, 2, 7]\n"
     ]
    }
   ],
   "source": [
    "A = 5\n",
    "B = A\n",
    "B = 10\n",
    "print(A)  # Output: 5\n",
    "print(B)  # Output: 10\n",
    "\n",
    "\n",
    "A = [1, 6, 2, 7]\n",
    "B = A\n",
    "B.remove(6)\n",
    "print(A)  # Output: [1, 2, 7]\n",
    "\n",
    "\n",
    "A = [1, 6, 2, 7]\n",
    "B = A[:]\n",
    "B.remove(6)\n",
    "print(A)  # Output: [1, 6, 2, 7]\n",
    "print(B)  # Output: [1, 2, 7]\n"
   ]
  },
  {
   "cell_type": "markdown",
   "id": "e0901ce1",
   "metadata": {},
   "source": [
    "### Exercise 25"
   ]
  },
  {
   "cell_type": "code",
   "execution_count": 53,
   "id": "b5214326",
   "metadata": {},
   "outputs": [
    {
     "name": "stdout",
     "output_type": "stream",
     "text": [
      "List A: [1, 6, 2, 7]\n",
      "List B: [1, 6, 2, 7, 7, 42, 100, 370899]\n"
     ]
    }
   ],
   "source": [
    "A = [1, 6, 2, 7]\n",
    "B = A[:]\n",
    "\n",
    "B.append(7)\n",
    "B.append(42)\n",
    "B.append(100)\n",
    "B.append(370899)\n",
    "\n",
    "print(\"List A:\", A)  # This will print the original list A\n",
    "print(\"List B:\", B)  # This will print the modified list B"
   ]
  },
  {
   "cell_type": "markdown",
   "id": "130f493e",
   "metadata": {},
   "source": [
    "### Exercise 26"
   ]
  },
  {
   "cell_type": "code",
   "execution_count": 56,
   "id": "a78aa578",
   "metadata": {},
   "outputs": [
    {
     "name": "stdout",
     "output_type": "stream",
     "text": [
      "Profit/Loss per item : [2.0, -1.05, 2.01]\n",
      "Total Profit : 2.96\n"
     ]
    }
   ],
   "source": [
    "bought_cost = [10.0, 12.55, 17.99]\n",
    "sale_price = [12.0, 11.50, 20.0]\n",
    "\n",
    "results = []\n",
    "total_profit = 0\n",
    "\n",
    "for cost, sale in zip(bought_cost, sale_price):\n",
    "    profit = round(sale - cost, 4)  # Rounded to 4 decimal places\n",
    "    results.append(profit)\n",
    "    total_profit += profit\n",
    "\n",
    "total_profit = round(total_profit, 4)  # Round total profit to 4 decimal places\n",
    "\n",
    "print(f\"Profit/Loss per item : {results}\")\n",
    "\n",
    "if total_profit > 0:\n",
    "    print(f\"Total Profit : {total_profit}\")\n",
    "else:\n",
    "    print(f\"Total Loss : {abs(total_profit)}\")\n"
   ]
  },
  {
   "cell_type": "markdown",
   "id": "a1cba732",
   "metadata": {},
   "source": [
    "### Exercise 26(b)"
   ]
  },
  {
   "cell_type": "code",
   "execution_count": 57,
   "id": "2c4d28a0",
   "metadata": {},
   "outputs": [
    {
     "name": "stdout",
     "output_type": "stream",
     "text": [
      "{'Ada': 98.0, 'Bill': 45.0, 'Charlie': 63.2, 'Neva': 72.2, 'Kelley': 64.9, 'Emerson': 32.0}\n"
     ]
    }
   ],
   "source": [
    "student_records = {\n",
    "    \"Ada\": 98.0,\n",
    "    \"Bill\": 45.0,\n",
    "    \"Charlie\": 63.2\n",
    "}\n",
    "\n",
    "student_names = [\"Neva\", \"Kelley\", \"Emerson\"]\n",
    "student_grades = [72.2, 64.9, 32.0]\n",
    "\n",
    "if len(student_names) == len(student_grades):\n",
    "    for i in range(len(student_names)):\n",
    "        student_records[student_names[i]] = student_grades[i]\n",
    "else:\n",
    "    print(\"Error: The lists of names and grades are not of the same length.\")\n",
    "\n",
    "print(student_records)"
   ]
  },
  {
   "cell_type": "markdown",
   "id": "526f684f",
   "metadata": {},
   "source": [
    "### Exercise 27"
   ]
  },
  {
   "cell_type": "code",
   "execution_count": 59,
   "id": "9be507f4",
   "metadata": {},
   "outputs": [
    {
     "name": "stdout",
     "output_type": "stream",
     "text": [
      "Student: Ada,   Grade: 98.0\n",
      "Student: Bill,   Grade: 45.0\n",
      "Student: Charlie,   Grade: 63.2\n",
      "Student: Neva,   Grade: 72.2\n",
      "Student: Kelley,   Grade: 64.9\n",
      "Student: Emerson,   Grade: 32.0\n"
     ]
    }
   ],
   "source": [
    "for k, v in student_records.items():\n",
    "    print(f\"Student: {k},   Grade: {v}\")"
   ]
  },
  {
   "cell_type": "markdown",
   "id": "8a63224b",
   "metadata": {},
   "source": [
    "### Extended Exercise 1"
   ]
  },
  {
   "cell_type": "code",
   "execution_count": 61,
   "id": "5030bafc",
   "metadata": {},
   "outputs": [
    {
     "name": "stdout",
     "output_type": "stream",
     "text": [
      "[2, 7, 9, 12]\n"
     ]
    }
   ],
   "source": [
    "def bubble_sort(L):\n",
    "    \n",
    "    n = len(L)\n",
    "    for i in range(n):\n",
    "        \n",
    "        swapped = False\n",
    "        # Last i elements are already in place\n",
    "        for j in range(0, n-i-1):\n",
    "            if L[j] > L[j+1]:\n",
    "                L[j], L[j+1] = L[j+1], L[j]\n",
    "                swapped = True\n",
    "                \n",
    "        if not swapped:\n",
    "            break\n",
    "            \n",
    "    return L\n",
    "\n",
    "\n",
    "L = [9, 2, 12, 7]\n",
    "sorted_L = bubble_sort(L)\n",
    "print(sorted_L)\n"
   ]
  },
  {
   "cell_type": "code",
   "execution_count": null,
   "id": "b5fe8289",
   "metadata": {},
   "outputs": [],
   "source": []
  }
 ],
 "metadata": {
  "kernelspec": {
   "display_name": "Python 3 (ipykernel)",
   "language": "python",
   "name": "python3"
  },
  "language_info": {
   "codemirror_mode": {
    "name": "ipython",
    "version": 3
   },
   "file_extension": ".py",
   "mimetype": "text/x-python",
   "name": "python",
   "nbconvert_exporter": "python",
   "pygments_lexer": "ipython3",
   "version": "3.11.5"
  }
 },
 "nbformat": 4,
 "nbformat_minor": 5
}
