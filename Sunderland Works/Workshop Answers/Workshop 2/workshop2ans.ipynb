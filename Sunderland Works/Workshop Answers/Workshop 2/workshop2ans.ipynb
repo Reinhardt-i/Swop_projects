{
 "cells": [
  {
   "cell_type": "markdown",
   "id": "5114b50b",
   "metadata": {},
   "source": [
    "### Exercise 1"
   ]
  },
  {
   "cell_type": "code",
   "execution_count": 1,
   "id": "dc135265",
   "metadata": {},
   "outputs": [],
   "source": [
    "def my_amazing_func():\n",
    "       print(\"Hello World! From my function!\")"
   ]
  },
  {
   "cell_type": "code",
   "execution_count": 2,
   "id": "a05c7544",
   "metadata": {},
   "outputs": [
    {
     "name": "stdout",
     "output_type": "stream",
     "text": [
      "Hello World! From my function!\n"
     ]
    }
   ],
   "source": [
    "my_amazing_func()"
   ]
  },
  {
   "cell_type": "markdown",
   "id": "14d08d13",
   "metadata": {},
   "source": [
    "### Exercise 2"
   ]
  },
  {
   "cell_type": "code",
   "execution_count": 3,
   "id": "05b07235",
   "metadata": {},
   "outputs": [
    {
     "name": "stdout",
     "output_type": "stream",
     "text": [
      "Hello World! From my function!\n",
      "None\n",
      "<class 'NoneType'>\n"
     ]
    }
   ],
   "source": [
    "variable_name = my_amazing_func()\n",
    "print(variable_name)\n",
    "print(type(variable_name))"
   ]
  },
  {
   "cell_type": "markdown",
   "id": "bcccc71f",
   "metadata": {},
   "source": [
    "### Exercise 3"
   ]
  },
  {
   "cell_type": "code",
   "execution_count": 4,
   "id": "cf26bd00",
   "metadata": {},
   "outputs": [
    {
     "name": "stdout",
     "output_type": "stream",
     "text": [
      "test string!\n"
     ]
    }
   ],
   "source": [
    "def my_amazing_func( thing_to_print ):\n",
    "       print( thing_to_print )\n",
    "        \n",
    "my_amazing_func(\"test string!\")"
   ]
  },
  {
   "cell_type": "markdown",
   "id": "6db155fa",
   "metadata": {},
   "source": [
    "### Exercise 4"
   ]
  },
  {
   "cell_type": "code",
   "execution_count": 7,
   "id": "32ee81e1",
   "metadata": {},
   "outputs": [
    {
     "name": "stdout",
     "output_type": "stream",
     "text": [
      "The Default thing you want\n",
      "test string!\n"
     ]
    }
   ],
   "source": [
    "def my_amazing_func(thing_to_print = \"The Default thing you want\"):\n",
    "      print( thing_to_print )\n",
    "        \n",
    "my_amazing_func()\n",
    "my_amazing_func(\"test string!\")"
   ]
  },
  {
   "cell_type": "markdown",
   "id": "bae210d5",
   "metadata": {},
   "source": [
    "### Exercise 5"
   ]
  },
  {
   "cell_type": "code",
   "execution_count": 12,
   "id": "6daaab25",
   "metadata": {},
   "outputs": [
    {
     "name": "stdout",
     "output_type": "stream",
     "text": [
      "5\n"
     ]
    }
   ],
   "source": [
    "import random\n",
    "\n",
    "x = random.randint(0, 10)\n",
    "print(x)"
   ]
  },
  {
   "cell_type": "markdown",
   "id": "948da4c5",
   "metadata": {},
   "source": [
    "### Exercise 6"
   ]
  },
  {
   "cell_type": "code",
   "execution_count": 14,
   "id": "e6b2f8a9",
   "metadata": {},
   "outputs": [
    {
     "name": "stdout",
     "output_type": "stream",
     "text": [
      "23 99 76 48 54 4 34 6 30 96 68 93 50 47 31 66 90 11 55 51 "
     ]
    }
   ],
   "source": [
    "for i in range(20):\n",
    "    print(random.randint(0, 100), end=\" \")"
   ]
  },
  {
   "cell_type": "markdown",
   "id": "f66c1f18",
   "metadata": {},
   "source": [
    "### Exercise 7"
   ]
  },
  {
   "cell_type": "code",
   "execution_count": 15,
   "id": "d8756a6b",
   "metadata": {},
   "outputs": [
    {
     "name": "stdout",
     "output_type": "stream",
     "text": [
      "Some outer scope string literal 42\n",
      "Some outer scope string literal 42\n"
     ]
    }
   ],
   "source": [
    "\n",
    "a = \"Some outer scope string literal\"\n",
    "b = 42\n",
    "\n",
    "\n",
    "def some_func():\n",
    "    print(a, b)\n",
    "\n",
    "    \n",
    "def some_func_v2(c, d):\n",
    "    print(c, d)\n",
    "    \n",
    "\n",
    "some_func()\n",
    "# some_func_v2()  # This line would error \"positional arguments\"\n",
    "some_func_v2( a, b )\n",
    "    "
   ]
  },
  {
   "cell_type": "markdown",
   "id": "8bb3475b",
   "metadata": {},
   "source": [
    "### Exercise 8"
   ]
  },
  {
   "cell_type": "code",
   "execution_count": 16,
   "id": "09c01849",
   "metadata": {},
   "outputs": [
    {
     "name": "stdout",
     "output_type": "stream",
     "text": [
      "4\n"
     ]
    }
   ],
   "source": [
    "def always_4():\n",
    "       return 4\n",
    "    \n",
    "four = always_4()\n",
    "print(four)"
   ]
  },
  {
   "cell_type": "markdown",
   "id": "57ee738d",
   "metadata": {},
   "source": [
    "### Exercise 9"
   ]
  },
  {
   "cell_type": "code",
   "execution_count": 17,
   "id": "02ac6650",
   "metadata": {},
   "outputs": [
    {
     "name": "stdout",
     "output_type": "stream",
     "text": [
      "10\n"
     ]
    }
   ],
   "source": [
    "def addition(a, b):\n",
    "    return a + b\n",
    "\n",
    "print(addition(6, 4))"
   ]
  },
  {
   "cell_type": "markdown",
   "id": "56eeceaa",
   "metadata": {},
   "source": [
    "### Exercise 10"
   ]
  },
  {
   "cell_type": "code",
   "execution_count": 18,
   "id": "31156fc0",
   "metadata": {},
   "outputs": [
    {
     "name": "stdout",
     "output_type": "stream",
     "text": [
      "3\n"
     ]
    }
   ],
   "source": [
    "def find_negative_one(A):\n",
    "    for i in range(len(A)):\n",
    "        if A[i] == -1:\n",
    "            return i\n",
    "    return None\n",
    "\n",
    "\n",
    "A = [ 5, 2, 9, -1, 3, 12 ]\n",
    "indx_of_issue = find_negative_one( A )\n",
    "print(indx_of_issue)"
   ]
  },
  {
   "cell_type": "markdown",
   "id": "6a7b1dd4",
   "metadata": {},
   "source": [
    "### Exercise 11"
   ]
  },
  {
   "cell_type": "code",
   "execution_count": 19,
   "id": "49e5c17d",
   "metadata": {},
   "outputs": [
    {
     "name": "stdout",
     "output_type": "stream",
     "text": [
      "There is no -1 here\n"
     ]
    }
   ],
   "source": [
    "def find_negative_one(A):\n",
    "    for i in range(len(A)):\n",
    "        if A[i] == -1:\n",
    "            return i\n",
    "    return \"There is no -1 here\"\n",
    "\n",
    "\n",
    "A = [ 5, 2, 9, 3, 12 ]\n",
    "indx_of_issue = find_negative_one( A )\n",
    "print(indx_of_issue)"
   ]
  },
  {
   "cell_type": "markdown",
   "id": "90cccdad",
   "metadata": {},
   "source": [
    "### Exercise 12"
   ]
  },
  {
   "cell_type": "code",
   "execution_count": 30,
   "id": "f0dfab09",
   "metadata": {},
   "outputs": [
    {
     "name": "stdout",
     "output_type": "stream",
     "text": [
      "{'Ada': 98.0, 'Bill': 45.0, 'Charlie': 63.2, 'Teri': 35.0, 'Johanna': 52.5, 'Tomas': 37.8, 'Piotr': 65.0, 'Grzegorz': 64.8}\n"
     ]
    }
   ],
   "source": [
    "def get_combined_namegrades(names, grades):\n",
    "\n",
    "    records = {}\n",
    "\n",
    "    if len(names) == len(grades):\n",
    "        for i in range(len(names)):\n",
    "            records[names[i]] = grades[i]\n",
    "    else:\n",
    "        print(\"Error: The lists of names and grades are not of the same length.\")\n",
    "\n",
    "    return records\n",
    "\n",
    "\n",
    "student_records = {\n",
    "   \"Ada\": 98.0,\n",
    "   \"Bill\": 45.0,\n",
    "   \"Charlie\": 63.2\n",
    "}\n",
    "\n",
    "\n",
    "student_names = [\"Teri\", \"Johanna\", \"Tomas\", \"Piotr\", \"Grzegorz\"]\n",
    "student_grades = [35.0, 52.5, 37.8, 65.0, 64.8]\n",
    "\n",
    "\n",
    "new_records = get_combined_namegrades(student_names, student_grades)\n",
    "student_records.update(new_records)\n",
    "print(student_records)"
   ]
  },
  {
   "cell_type": "markdown",
   "id": "30fb580b",
   "metadata": {},
   "source": [
    "### Exercise 13"
   ]
  },
  {
   "cell_type": "code",
   "execution_count": 32,
   "id": "49f3d862",
   "metadata": {},
   "outputs": [
    {
     "name": "stdout",
     "output_type": "stream",
     "text": [
      "{'Ada': 98.0, 'Piotr': 65.0}\n"
     ]
    }
   ],
   "source": [
    "filtered_student_records = {student: grade for student, grade in student_records.items() if grade >= 65}\n",
    "print(filtered_student_records)"
   ]
  },
  {
   "cell_type": "markdown",
   "id": "acd5e254",
   "metadata": {},
   "source": [
    "### Exercise 14"
   ]
  },
  {
   "cell_type": "code",
   "execution_count": 36,
   "id": "ff72b0fc",
   "metadata": {},
   "outputs": [
    {
     "name": "stdout",
     "output_type": "stream",
     "text": [
      "{'Ada': 'First', 'Bill': 'Pass', 'Charlie': '2:1', 'Teri': 'Fail', 'Johanna': '2:2', 'Tomas': 'Fail', 'Piotr': '2:1', 'Grzegorz': '2:1'}\n"
     ]
    }
   ],
   "source": [
    "\n",
    "def grade_to_classification(grade):\n",
    "    if grade < 40.0:\n",
    "        return \"Fail\"\n",
    "    elif grade < 50.0:\n",
    "        return \"Pass\"\n",
    "    elif grade < 60.0:\n",
    "        return \"2:2\"\n",
    "    elif grade < 70.0:\n",
    "        return \"2:1\"\n",
    "    else:\n",
    "        return \"First\"\n",
    "\n",
    "\n",
    "classified_student_records = {student: grade_to_classification(grade) for student, grade in student_records.items()}\n",
    "print(classified_student_records)"
   ]
  },
  {
   "cell_type": "markdown",
   "id": "8af20714",
   "metadata": {},
   "source": [
    "### Exercise 15"
   ]
  },
  {
   "cell_type": "code",
   "execution_count": 38,
   "id": "0fd10a99",
   "metadata": {},
   "outputs": [
    {
     "name": "stdout",
     "output_type": "stream",
     "text": [
      "['Fail', '2:2', 'Pass', 'First', 'First', '2:1', '2:2', 'Pass', 'First']\n"
     ]
    }
   ],
   "source": [
    "more_grades = [0.0, 50.0, 49.9, 79.0, 101.0, 65.0, 54.2, 48.2, 78.9]\n",
    "classified_grades = [grade_to_classification(grade) for grade in more_grades]\n",
    "print(classified_grades)"
   ]
  },
  {
   "cell_type": "markdown",
   "id": "56892371",
   "metadata": {},
   "source": [
    "### Exercise 16"
   ]
  },
  {
   "cell_type": "code",
   "execution_count": 39,
   "id": "e669cd1f",
   "metadata": {},
   "outputs": [
    {
     "name": "stdout",
     "output_type": "stream",
     "text": [
      "1\n"
     ]
    }
   ],
   "source": [
    "failed_grades = [grade_to_classification(grade) for grade in more_grades if grade < 40]\n",
    "number_of_failures = len(failed_grades)\n",
    "print(number_of_failures)"
   ]
  },
  {
   "cell_type": "markdown",
   "id": "3c9f8698",
   "metadata": {},
   "source": [
    "### Exercise 17"
   ]
  },
  {
   "cell_type": "code",
   "execution_count": 41,
   "id": "33f8fb5d",
   "metadata": {},
   "outputs": [
    {
     "name": "stdout",
     "output_type": "stream",
     "text": [
      "[0.0, 50.0, 49.9, 79.0, 100, 65.0, 54.2, 48.2, 78.9]\n"
     ]
    }
   ],
   "source": [
    "adjusted_grades = [grade if grade <= 100 else 100 for grade in more_grades]\n",
    "print(adjusted_grades)"
   ]
  },
  {
   "cell_type": "markdown",
   "id": "af539a59",
   "metadata": {},
   "source": [
    "### Exercise 18"
   ]
  },
  {
   "cell_type": "code",
   "execution_count": 51,
   "id": "366cd32b",
   "metadata": {},
   "outputs": [],
   "source": [
    "class Student(object):\n",
    "    pass\n",
    "\n",
    "alex = Student()"
   ]
  },
  {
   "cell_type": "markdown",
   "id": "da99b325",
   "metadata": {},
   "source": [
    "### Exercise 19"
   ]
  },
  {
   "cell_type": "code",
   "execution_count": 52,
   "id": "64ad57e2",
   "metadata": {},
   "outputs": [
    {
     "name": "stdout",
     "output_type": "stream",
     "text": [
      "<class '__main__.Student'>\n",
      "True\n"
     ]
    }
   ],
   "source": [
    "print(type(alex))\n",
    "print(isinstance(alex, Student))"
   ]
  },
  {
   "cell_type": "markdown",
   "id": "d0fda316",
   "metadata": {},
   "source": [
    "### Exercise 20"
   ]
  },
  {
   "cell_type": "code",
   "execution_count": 53,
   "id": "9695ac44",
   "metadata": {},
   "outputs": [
    {
     "name": "stdout",
     "output_type": "stream",
     "text": [
      "This gets called when I make a new student.\n"
     ]
    }
   ],
   "source": [
    "class Student(object):\n",
    "    def __init__(self):\n",
    "        print(\"This gets called when I make a new student.\")\n",
    "\n",
    "\n",
    "alex = Student()"
   ]
  },
  {
   "cell_type": "markdown",
   "id": "8fd530b8",
   "metadata": {},
   "source": [
    "### Exercise 21"
   ]
  },
  {
   "cell_type": "code",
   "execution_count": 55,
   "id": "4145b3c0",
   "metadata": {},
   "outputs": [],
   "source": [
    "class Student(object):\n",
    "    def __init__(self, name, grade):\n",
    "        self.name = name\n",
    "        self.grade = float(grade)\n",
    "\n",
    "\n",
    "# alex = Student()\n",
    "# The line above induces TypeError: Student.__init__() missing 2 required positional arguments: 'name' and 'grade'\n",
    "\n",
    "alex = Student(\"Alex\", 99)"
   ]
  },
  {
   "cell_type": "markdown",
   "id": "20484b3b",
   "metadata": {},
   "source": [
    "### Exercise 22"
   ]
  },
  {
   "cell_type": "code",
   "execution_count": 58,
   "id": "fd8c3641",
   "metadata": {},
   "outputs": [
    {
     "name": "stdout",
     "output_type": "stream",
     "text": [
      "This gets called when I make a new student.\n",
      "Creating student Alex, with grade 99\n",
      "This gets called when I make a new student.\n",
      "Creating student Alex, with grade 99\n",
      "This gets called when I make a new student.\n",
      "Creating student Rob, with grade 35.0\n",
      "This gets called when I make a new student.\n",
      "Creating student Tasha, with grade 70.0\n"
     ]
    }
   ],
   "source": [
    "class Student(object):\n",
    "    def __init__(self, name, grade):\n",
    "        print(\"This gets called when I make a new student.\")\n",
    "        print(f\"Creating student {name}, with grade {grade}\")\n",
    "        self.name = name\n",
    "        self.grade = float(grade)\n",
    "\n",
    "alex = Student(\"Alex\", 99)\n",
    "some_students = [Student(\"Alex\", 99), Student(\"Rob\", 35.0), Student(\"Tasha\", 70.0)]"
   ]
  },
  {
   "cell_type": "markdown",
   "id": "a06e1b51",
   "metadata": {},
   "source": [
    "### Exercise 23"
   ]
  },
  {
   "cell_type": "code",
   "execution_count": 61,
   "id": "c1cdecc8",
   "metadata": {},
   "outputs": [
    {
     "name": "stdout",
     "output_type": "stream",
     "text": [
      "<__main__.Student object at 0x1051ad290>\n",
      "\n",
      "First\n"
     ]
    }
   ],
   "source": [
    "class Student(object):\n",
    "    def __init__(self, name, grade):\n",
    "        self.name = name\n",
    "        self.grade = float(grade)\n",
    "\n",
    "    def get_classification(self):\n",
    "        if self.grade < 40.0:\n",
    "            return \"Fail\"\n",
    "        elif self.grade < 50.0:\n",
    "            return \"Pass\"\n",
    "        elif self.grade < 60.0:\n",
    "            return \"2:2\"\n",
    "        elif self.grade < 70.0:\n",
    "            return \"2:1\"\n",
    "        else:\n",
    "            return \"First\"\n",
    "\n",
    "\n",
    "alex = Student(\"Alex\", 99)\n",
    "some_students = [Student(\"Alex\", 99), Student(\"Rob\", 35.0), Student(\"Tasha\", 70.0)]\n",
    "print(some_students[0], end=\"\\n\\n\")\n",
    "\n",
    "\n",
    "print(alex.get_classification())\n"
   ]
  },
  {
   "cell_type": "markdown",
   "id": "e2925dae",
   "metadata": {},
   "source": [
    "### Extended Exercise 1"
   ]
  },
  {
   "cell_type": "code",
   "execution_count": 62,
   "id": "55e6492a",
   "metadata": {},
   "outputs": [
    {
     "name": "stdout",
     "output_type": "stream",
     "text": [
      "[True, True, False]\n"
     ]
    }
   ],
   "source": [
    "def is_palindrome(input_list):\n",
    "    return [s.replace(\" \", \"\").lower() == s.replace(\" \", \"\").lower()[::-1] for s in input_list]\n",
    "\n",
    "\n",
    "input_list = [\"taco cat\", \"bob\", \"davey\"]\n",
    "output = is_palindrome(input_list)\n",
    "print(output)\n"
   ]
  },
  {
   "cell_type": "code",
   "execution_count": null,
   "id": "7c0e37c0",
   "metadata": {},
   "outputs": [],
   "source": []
  }
 ],
 "metadata": {
  "kernelspec": {
   "display_name": "Python 3 (ipykernel)",
   "language": "python",
   "name": "python3"
  },
  "language_info": {
   "codemirror_mode": {
    "name": "ipython",
    "version": 3
   },
   "file_extension": ".py",
   "mimetype": "text/x-python",
   "name": "python",
   "nbconvert_exporter": "python",
   "pygments_lexer": "ipython3",
   "version": "3.11.5"
  }
 },
 "nbformat": 4,
 "nbformat_minor": 5
}
